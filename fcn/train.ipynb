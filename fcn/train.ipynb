{
 "cells": [
  {
   "cell_type": "code",
   "execution_count": 1,
   "metadata": {},
   "outputs": [
    {
     "name": "stderr",
     "output_type": "stream",
     "text": [
      "2022-05-09 20:05:00.579271: W tensorflow/stream_executor/platform/default/dso_loader.cc:64] Could not load dynamic library 'libcudart.so.11.0'; dlerror: libcudart.so.11.0: cannot open shared object file: No such file or directory\n",
      "2022-05-09 20:05:00.579348: I tensorflow/stream_executor/cuda/cudart_stub.cc:29] Ignore above cudart dlerror if you do not have a GPU set up on your machine.\n"
     ]
    }
   ],
   "source": [
    "import tensorflow as tf\n",
    "import pandas as pd\n",
    "import numpy as np\n",
    "import matplotlib.pyplot as plt\n",
    "import seaborn as sns\n",
    "from tensorflow import keras\n",
    "\n",
    "from model import build_fcn\n",
    "from resnet import resnet_v1"
   ]
  },
  {
   "cell_type": "code",
   "execution_count": 2,
   "metadata": {},
   "outputs": [],
   "source": [
    "IMG_SIZE = (256,256,3)"
   ]
  },
  {
   "cell_type": "code",
   "execution_count": 3,
   "metadata": {},
   "outputs": [
    {
     "name": "stderr",
     "output_type": "stream",
     "text": [
      "2022-05-09 20:05:05.019540: W tensorflow/stream_executor/platform/default/dso_loader.cc:64] Could not load dynamic library 'libcuda.so.1'; dlerror: libcuda.so.1: cannot open shared object file: No such file or directory\n",
      "2022-05-09 20:05:05.019609: W tensorflow/stream_executor/cuda/cuda_driver.cc:269] failed call to cuInit: UNKNOWN ERROR (303)\n",
      "2022-05-09 20:05:05.019637: I tensorflow/stream_executor/cuda/cuda_diagnostics.cc:156] kernel driver does not appear to be running on this host (ROG): /proc/driver/nvidia/version does not exist\n",
      "2022-05-09 20:05:05.019921: I tensorflow/core/platform/cpu_feature_guard.cc:151] This TensorFlow binary is optimized with oneAPI Deep Neural Network Library (oneDNN) to use the following CPU instructions in performance-critical operations:  AVX2 FMA\n",
      "To enable them in other operations, rebuild TensorFlow with the appropriate compiler flags.\n"
     ]
    }
   ],
   "source": [
    "backbone = resnet_v1(IMG_SIZE)"
   ]
  },
  {
   "cell_type": "code",
   "execution_count": 4,
   "metadata": {},
   "outputs": [],
   "source": [
    "model = build_fcn(input_shape=IMG_SIZE,\n",
    "                  backbone=backbone,\n",
    "                  n_classes=2\n",
    "                  )"
   ]
  },
  {
   "cell_type": "code",
   "execution_count": 5,
   "metadata": {},
   "outputs": [
    {
     "name": "stdout",
     "output_type": "stream",
     "text": [
      "You must install pydot (`pip install pydot`) and install graphviz (see instructions at https://graphviz.gitlab.io/download/) for plot_model/model_to_dot to work.\n"
     ]
    }
   ],
   "source": [
    "from tensorflow.keras.utils import plot_model\n",
    "plot_model(model)"
   ]
  },
  {
   "cell_type": "code",
   "execution_count": 6,
   "metadata": {},
   "outputs": [
    {
     "name": "stdout",
     "output_type": "stream",
     "text": [
      "Model: \"fcn\"\n",
      "__________________________________________________________________________________________________\n",
      " Layer (type)                   Output Shape         Param #     Connected to                     \n",
      "==================================================================================================\n",
      " input_1 (InputLayer)           [(None, 256, 256, 3  0           []                               \n",
      "                                )]                                                                \n",
      "                                                                                                  \n",
      " ResNet20v1 (Functional)        [(None, 64, 64, 64)  2953600     ['input_1[0][0]']                \n",
      "                                , (None, 32, 32, 64                                               \n",
      "                                ),                                                                \n",
      "                                 (None, 16, 16, 512                                               \n",
      "                                ),                                                                \n",
      "                                 (None, 8, 8, 512)]                                               \n",
      "                                                                                                  \n",
      " conv_fcn_8 (Conv2D)            (None, 32, 32, 256)  147712      ['ResNet20v1[0][1]']             \n",
      "                                                                                                  \n",
      " conv_fcn_16 (Conv2D)           (None, 16, 16, 256)  1179904     ['ResNet20v1[0][2]']             \n",
      "                                                                                                  \n",
      " conv_fcn_32 (Conv2D)           (None, 8, 8, 256)    1179904     ['ResNet20v1[0][3]']             \n",
      "                                                                                                  \n",
      " bn_fcn_8 (BatchNormalization)  (None, 32, 32, 256)  1024        ['conv_fcn_8[0][0]']             \n",
      "                                                                                                  \n",
      " bn_fcn_16 (BatchNormalization)  (None, 16, 16, 256)  1024       ['conv_fcn_16[0][0]']            \n",
      "                                                                                                  \n",
      " bn_fcn_32 (BatchNormalization)  (None, 8, 8, 256)   1024        ['conv_fcn_32[0][0]']            \n",
      "                                                                                                  \n",
      " relu_fcn_8 (Activation)        (None, 32, 32, 256)  0           ['bn_fcn_8[0][0]']               \n",
      "                                                                                                  \n",
      " relu_fcn_16 (Activation)       (None, 16, 16, 256)  0           ['bn_fcn_16[0][0]']              \n",
      "                                                                                                  \n",
      " relu_fcn_32 (Activation)       (None, 8, 8, 256)    0           ['bn_fcn_32[0][0]']              \n",
      "                                                                                                  \n",
      " fcn_8_up2D (UpSampling2D)      (None, 64, 64, 256)  0           ['relu_fcn_8[0][0]']             \n",
      "                                                                                                  \n",
      " fcn_16_up2D (UpSampling2D)     (None, 64, 64, 256)  0           ['relu_fcn_16[0][0]']            \n",
      "                                                                                                  \n",
      " fcn_32_up2D (UpSampling2D)     (None, 64, 64, 256)  0           ['relu_fcn_32[0][0]']            \n",
      "                                                                                                  \n",
      " concatenate (Concatenate)      (None, 64, 64, 832)  0           ['ResNet20v1[0][0]',             \n",
      "                                                                  'fcn_8_up2D[0][0]',             \n",
      "                                                                  'fcn_16_up2D[0][0]',            \n",
      "                                                                  'fcn_32_up2D[0][0]']            \n",
      "                                                                                                  \n",
      " transpose_conv_up_x2 (Conv2DTr  (None, 128, 128, 25  1917184    ['concatenate[0][0]']            \n",
      " anspose)                       6)                                                                \n",
      "                                                                                                  \n",
      " transpose_bn_up_x2 (BatchNorma  (None, 128, 128, 25  1024       ['transpose_conv_up_x2[0][0]']   \n",
      " lization)                      6)                                                                \n",
      "                                                                                                  \n",
      " transpose_relu_up_x2 (Activati  (None, 128, 128, 25  0          ['transpose_bn_up_x2[0][0]']     \n",
      " on)                            6)                                                                \n",
      "                                                                                                  \n",
      " transpose_conv_up_x4 (Conv2DTr  (None, 256, 256, 25  590080     ['transpose_relu_up_x2[0][0]']   \n",
      " anspose)                       6)                                                                \n",
      "                                                                                                  \n",
      " transpose_bn_up_x4 (BatchNorma  (None, 256, 256, 25  1024       ['transpose_conv_up_x4[0][0]']   \n",
      " lization)                      6)                                                                \n",
      "                                                                                                  \n",
      " transpose_relu_up_x4 (Activati  (None, 256, 256, 25  0          ['transpose_bn_up_x4[0][0]']     \n",
      " on)                            6)                                                                \n",
      "                                                                                                  \n",
      " pre_activation (Conv2DTranspos  (None, 256, 256, 2)  514        ['transpose_relu_up_x4[0][0]']   \n",
      " e)                                                                                               \n",
      "                                                                                                  \n",
      " segmentation (Softmax)         (None, 256, 256, 2)  0           ['pre_activation[0][0]']         \n",
      "                                                                                                  \n",
      "==================================================================================================\n",
      "Total params: 7,974,018\n",
      "Trainable params: 7,968,034\n",
      "Non-trainable params: 5,984\n",
      "__________________________________________________________________________________________________\n"
     ]
    }
   ],
   "source": [
    "model.summary()"
   ]
  }
 ],
 "metadata": {
  "interpreter": {
   "hash": "97cc609b13305c559618ec78a438abc56230b9381f827f22d070313b9a1f3777"
  },
  "kernelspec": {
   "display_name": "Python 3.10.4 64-bit",
   "language": "python",
   "name": "python3"
  },
  "language_info": {
   "codemirror_mode": {
    "name": "ipython",
    "version": 3
   },
   "file_extension": ".py",
   "mimetype": "text/x-python",
   "name": "python",
   "nbconvert_exporter": "python",
   "pygments_lexer": "ipython3",
   "version": "3.10.4"
  },
  "orig_nbformat": 4
 },
 "nbformat": 4,
 "nbformat_minor": 2
}
